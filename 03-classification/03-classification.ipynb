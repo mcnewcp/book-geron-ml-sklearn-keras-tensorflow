{
 "cells": [
  {
   "cell_type": "markdown",
   "metadata": {},
   "source": [
    "# Purpose\n",
    "\n",
    "This notebook is a working exploration of classification algorithms.\n",
    "\n",
    "# MNIST Dataset\n",
    "\n",
    "MNIST dataset is a set of 70,000 small images of digits handwritten by highschool students.  It is a commonly studied dataset for classification problems.  I'll access it via `sklearn`.   "
   ]
  },
  {
   "cell_type": "code",
   "execution_count": 1,
   "metadata": {},
   "outputs": [
    {
     "data": {
      "text/plain": [
       "dict_keys(['data', 'target', 'frame', 'categories', 'feature_names', 'target_names', 'DESCR', 'details', 'url'])"
      ]
     },
     "execution_count": 1,
     "metadata": {},
     "output_type": "execute_result"
    }
   ],
   "source": [
    "from sklearn.datasets import fetch_openml\n",
    "mnist = fetch_openml('mnist_784', version=1)\n",
    "mnist.keys()"
   ]
  },
  {
   "cell_type": "markdown",
   "metadata": {},
   "source": [
    "Separating out the features and target variable."
   ]
  },
  {
   "cell_type": "code",
   "execution_count": 19,
   "metadata": {},
   "outputs": [
    {
     "name": "stdout",
     "output_type": "stream",
     "text": [
      "X shape: (70000, 784), y shape: (70000,)\n"
     ]
    }
   ],
   "source": [
    "X, y = mnist[\"data\"], mnist[\"target\"]\n",
    "#forcing to numpy array\n",
    "X = X.to_numpy()\n",
    "y = y.to_numpy()\n",
    "\n",
    "print(\"X shape: {}, y shape: {}\".format(X.shape, y.shape))"
   ]
  },
  {
   "cell_type": "markdown",
   "metadata": {},
   "source": [
    "There are 70,000 images (rows) and each have 784 features (columns) because each image is 28 x 28 pixels and each feature simply represents each pixel's intensity froom 0 (white) to 255 (black).  I can look at an individual image using `matplotlib`'s `imshow()` function."
   ]
  },
  {
   "cell_type": "code",
   "execution_count": 22,
   "metadata": {},
   "outputs": [
    {
     "data": {
      "image/png": "[encoded data removed]",
      "text/plain": [
       "<Figure size 432x288 with 1 Axes>"
      ]
     },
     "metadata": {
      "needs_background": "light"
     },
     "output_type": "display_data"
    }
   ],
   "source": [
    "import matplotlib as mpl\n",
    "import matplotlib.pyplot as plt\n",
    "\n",
    "some_digit = X[5]\n",
    "some_digit_image = some_digit.reshape(28, 28)\n",
    "\n",
    "plt.imshow(some_digit_image, cmap=\"binary\")\n",
    "plt.show()"
   ]
  },
  {
   "cell_type": "markdown",
   "metadata": {},
   "source": [
    "This digit looks like a 2 to me and below I'm confirming that is in fact how it is labeled.  Notice the label is a string, so I'm also going to cast y to integer."
   ]
  },
  {
   "cell_type": "code",
   "execution_count": 28,
   "metadata": {},
   "outputs": [
    {
     "name": "stdout",
     "output_type": "stream",
     "text": [
      "image label: 2, label type: <class 'str'>\n"
     ]
    }
   ],
   "source": [
    "import numpy as np\n",
    "print('image label: {}, label type: {}'.format(y[5], type(y[5])))\n",
    "\n",
    "y = y.astype(np.uint8)"
   ]
  },
  {
   "cell_type": "markdown",
   "metadata": {},
   "source": [
    "Of course, before I do any EDA work I want to split out a test dataset.  In the case of the MNIST dataset, this is already separated for me.  The first 60,000 images are my training set and the final 10,000 are my test set.  The training set is already shuffled, which is good in this case but would not be in some other cases, e.g. time series, because it ensures all CV folds will contain similar digits.\n",
    "\n",
    "# Training a Binary Classifier\n",
    "\n"
   ]
  }
 ],
 "metadata": {
  "interpreter": {
   "hash": "217afb6d47e1ecfe9bc2bb1d008138758dfc335ae7a13eb273c90375d6240835"
  },
  "kernelspec": {
   "display_name": "Python 3.9.4 64-bit ('test-env': conda)",
   "name": "python3"
  },
  "language_info": {
   "codemirror_mode": {
    "name": "ipython",
    "version": 3
   },
   "file_extension": ".py",
   "mimetype": "text/x-python",
   "name": "python",
   "nbconvert_exporter": "python",
   "pygments_lexer": "ipython3",
   "version": "3.9.4"
  },
  "orig_nbformat": 4
 },
 "nbformat": 4,
 "nbformat_minor": 2
}
